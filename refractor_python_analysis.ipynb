{
 "cells": [
  {
   "cell_type": "code",
   "execution_count": 1,
   "id": "demanding-lloyd",
   "metadata": {},
   "outputs": [],
   "source": [
    "from collections import Counter\n",
    "import pandas as pd\n",
    "from pathlib import Path #Modern way of handling paths in Pyhton"
   ]
  },
  {
   "cell_type": "code",
   "execution_count": 2,
   "id": "played-schema",
   "metadata": {},
   "outputs": [],
   "source": [
    "stopwords = {\"ourselves\", \"hers\", \"between\", \"yourself\", \"but\", \"again\", \"there\", \"about\", \"once\", \"during\", \"out\", \"very\", \"having\", \"with\", \"they\", \"own\", \"an\", \"be\", \"some\", \"for\", \"do\", \"its\", \"yours\", \"such\", \"into\", \"of\", \"most\", \"itself\", \"other\", \"off\", \"is\", \"s\", \"am\", \"or\", \"who\", \"as\", \"from\", \"him\", \"each\", \"the\", \"themselves\", \"until\", \"below\", \"are\", \"we\", \"these\", \"your\", \"his\", \"through\", \"don\", \"nor\", \"me\", \"were\", \"her\", \"more\", \"himself\", \"this\", \"down\", \"should\", \"our\", \"their\", \"while\", \"above\", \"both\", \"up\", \"to\", \"ours\", \"had\", \"she\", \"all\", \"no\", \"when\", \"at\", \"any\", \"before\", \"them\", \"same\", \"and\", \"been\", \"have\", \"in\", \"will\", \"on\", \"does\", \"yourselves\", \"then\", \"that\", \"because\", \"what\", \"over\", \"why\", \"so\", \"can\", \"did\", \"not\", \"now\", \"under\", \"he\", \"you\", \"herself\", \"has\", \"just\", \"where\", \"too\", \"only\", \"myself\", \"which\", \"those\", \"i\", \"after\", \"few\", \"whom\", \"t\", \"being\", \"if\", \"theirs\", \"my\", \"against\", \"a\", \"by\", \"doing\", \"it\", \"how\", \"further\", \"was\", \"here\", \"than\"}"
   ]
  },
  {
   "cell_type": "code",
   "execution_count": 3,
   "id": "extreme-newcastle",
   "metadata": {},
   "outputs": [],
   "source": [
    "book_folder = Path(\"books/\")\n",
    "file_path = book_folder / \"Defoe_Robinson_Crusoe.txt\""
   ]
  },
  {
   "cell_type": "code",
   "execution_count": 4,
   "id": "varying-allocation",
   "metadata": {},
   "outputs": [],
   "source": [
    "my_text = open(file_path,encoding=\"utf-8\").read() # Get the text\n",
    "my_text = my_text.lower()  # Set it to lowercase\n",
    "punctuation = \"!\\\"#$%&'()*+,-.”/:;<=>?@[\\]^“_`{|}~0123456789\"\n",
    "no_punct = str.maketrans(\"\", \"\", punctuation)#replaces things in puctuation var with nothing\n",
    "my_text = my_text.translate(no_punct)  # Excludes all punct from the punctuation var, returns the text without it.\n",
    "my_text= my_text.split()  # Makes it into a list by itself. Why? No idea, but it´s cool.\n",
    "\n",
    "my_text_naive = my_text #Naive transformation = including stopwords\n",
    "\n",
    "my_text = [i for i in my_text if not i in stopwords] #Removes all stopwords from the list"
   ]
  },
  {
   "cell_type": "code",
   "execution_count": null,
   "id": "organizational-orlando",
   "metadata": {},
   "outputs": [],
   "source": []
  },
  {
   "cell_type": "code",
   "execution_count": 5,
   "id": "alone-panic",
   "metadata": {},
   "outputs": [],
   "source": [
    "trans = Counter(my_text)\n",
    "naive_trans = Counter(my_text_naive)\n",
    "\n",
    "f_raw_zipf = pd.DataFrame.from_dict(data = [trans])#Pass values as a list. If you dont do it, it crashes. For some reason.\n",
    "f_raw_naive = pd.DataFrame.from_dict(data = [naive_trans])\n",
    "\n",
    "f_zipf = f_raw_zipf.T #T = transpose - columns are rows and vice versa\n",
    "f_naive = f_raw_naive.T\n",
    "\n",
    "f_zipf.columns = [\"word frequency\"]\n",
    "f_naive.columns = [\"word frequency\"]"
   ]
  },
  {
   "cell_type": "code",
   "execution_count": 6,
   "id": "radical-generation",
   "metadata": {},
   "outputs": [
    {
     "name": "stdout",
     "output_type": "stream",
     "text": [
      "It went ok. Your files are in the directory with this program.\n"
     ]
    }
   ],
   "source": [
    "try: \n",
    "    f_zipf.to_csv(\"robinson_crusoe_words.csv\")\n",
    "    f_naive.to_csv(\"robinson_crusoe_all_words.csv\") #In case you want the naive transformation too.\n",
    "    print(\"It went ok. Your files are in the directory with this program.\")\n",
    "except: print(\"Something went wrong. Please fix your code.\")\n"
   ]
  },
  {
   "cell_type": "code",
   "execution_count": 7,
   "id": "economic-arcade",
   "metadata": {},
   "outputs": [
    {
     "name": "stdout",
     "output_type": "stream",
     "text": [
      "Number of unique words in Robinson Crusoe (excluding stopwords) is:6673\n"
     ]
    }
   ],
   "source": [
    "num_words = len(trans)  # Counts number of all words in text\n",
    "unique_words = set(trans)\n",
    "\n",
    "k = len(unique_words)\n",
    "print(\"Number of unique words in Robinson Crusoe (excluding stopwords) is:\" + str(k))"
   ]
  },
  {
   "cell_type": "code",
   "execution_count": null,
   "id": "pursuant-latitude",
   "metadata": {},
   "outputs": [],
   "source": []
  }
 ],
 "metadata": {
  "kernelspec": {
   "display_name": "Python 3",
   "language": "python",
   "name": "python3"
  },
  "language_info": {
   "codemirror_mode": {
    "name": "ipython",
    "version": 3
   },
   "file_extension": ".py",
   "mimetype": "text/x-python",
   "name": "python",
   "nbconvert_exporter": "python",
   "pygments_lexer": "ipython3",
   "version": "3.8.4"
  }
 },
 "nbformat": 4,
 "nbformat_minor": 5
}
